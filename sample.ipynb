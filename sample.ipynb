{
 "cells": [
  {
   "metadata": {},
   "cell_type": "markdown",
   "source": "# Import Pandas",
   "id": "e12924a685209272"
  },
  {
   "metadata": {
    "collapsed": true,
    "ExecuteTime": {
     "end_time": "2025-05-17T15:04:49.784068Z",
     "start_time": "2025-05-17T15:04:49.769173Z"
    }
   },
   "cell_type": "code",
   "source": "import pandas as pd",
   "id": "6d1555235fbfd0b9",
   "outputs": [],
   "execution_count": 8
  },
  {
   "metadata": {},
   "cell_type": "markdown",
   "source": "# Create and view a series of three different colours",
   "id": "e27c9b645ac8b734"
  },
  {
   "metadata": {
    "ExecuteTime": {
     "end_time": "2025-05-17T15:04:49.836282Z",
     "start_time": "2025-05-17T15:04:49.828364Z"
    }
   },
   "cell_type": "code",
   "source": [
    "colors=pd.Series([\"red\",\"green\",\"blue\"])\n",
    "colors"
   ],
   "id": "7910b8716e2b8f5d",
   "outputs": [
    {
     "data": {
      "text/plain": [
       "0      red\n",
       "1    green\n",
       "2     blue\n",
       "dtype: object"
      ]
     },
     "execution_count": 9,
     "metadata": {},
     "output_type": "execute_result"
    }
   ],
   "execution_count": 9
  },
  {
   "metadata": {},
   "cell_type": "markdown",
   "source": "# Create a series of three different car types and view it\n",
   "id": "7380ede8508b6594"
  },
  {
   "metadata": {
    "ExecuteTime": {
     "end_time": "2025-05-17T15:04:49.910814Z",
     "start_time": "2025-05-17T15:04:49.904279Z"
    }
   },
   "cell_type": "code",
   "source": [
    "car=pd.Series([\"suv\",\"convertible\",\"sedan\"])\n",
    "car"
   ],
   "id": "c9ac7fb7f41eab59",
   "outputs": [
    {
     "data": {
      "text/plain": [
       "0            suv\n",
       "1    convertible\n",
       "2          sedan\n",
       "dtype: object"
      ]
     },
     "execution_count": 10,
     "metadata": {},
     "output_type": "execute_result"
    }
   ],
   "execution_count": 10
  },
  {
   "metadata": {},
   "cell_type": "markdown",
   "source": "# Combine the Series of cars and colours into a DataFrame\n",
   "id": "c55b985c6781c180"
  },
  {
   "metadata": {
    "ExecuteTime": {
     "end_time": "2025-05-17T15:04:50.090804Z",
     "start_time": "2025-05-17T15:04:50.080778Z"
    }
   },
   "cell_type": "code",
   "source": [
    "combine = pd.DataFrame({\n",
    "    \"cat_type\":car,\n",
    "    \"color\":colors\n",
    "})\n",
    "combine"
   ],
   "id": "2fbabd65913b04cb",
   "outputs": [
    {
     "data": {
      "text/plain": [
       "      cat_type  color\n",
       "0          suv    red\n",
       "1  convertible  green\n",
       "2        sedan   blue"
      ],
      "text/html": [
       "<div>\n",
       "<style scoped>\n",
       "    .dataframe tbody tr th:only-of-type {\n",
       "        vertical-align: middle;\n",
       "    }\n",
       "\n",
       "    .dataframe tbody tr th {\n",
       "        vertical-align: top;\n",
       "    }\n",
       "\n",
       "    .dataframe thead th {\n",
       "        text-align: right;\n",
       "    }\n",
       "</style>\n",
       "<table border=\"1\" class=\"dataframe\">\n",
       "  <thead>\n",
       "    <tr style=\"text-align: right;\">\n",
       "      <th></th>\n",
       "      <th>cat_type</th>\n",
       "      <th>color</th>\n",
       "    </tr>\n",
       "  </thead>\n",
       "  <tbody>\n",
       "    <tr>\n",
       "      <th>0</th>\n",
       "      <td>suv</td>\n",
       "      <td>red</td>\n",
       "    </tr>\n",
       "    <tr>\n",
       "      <th>1</th>\n",
       "      <td>convertible</td>\n",
       "      <td>green</td>\n",
       "    </tr>\n",
       "    <tr>\n",
       "      <th>2</th>\n",
       "      <td>sedan</td>\n",
       "      <td>blue</td>\n",
       "    </tr>\n",
       "  </tbody>\n",
       "</table>\n",
       "</div>"
      ]
     },
     "execution_count": 11,
     "metadata": {},
     "output_type": "execute_result"
    }
   ],
   "execution_count": 11
  },
  {
   "metadata": {},
   "cell_type": "markdown",
   "source": "",
   "id": "aca8efb3e582075"
  },
  {
   "metadata": {},
   "cell_type": "markdown",
   "source": "# Import \"../data/car-sales.csv\" and turn it into a DataFrame\n",
   "id": "e87486eabd264da6"
  },
  {
   "metadata": {
    "ExecuteTime": {
     "end_time": "2025-05-17T15:04:50.384376Z",
     "start_time": "2025-05-17T15:04:50.363332Z"
    }
   },
   "cell_type": "code",
   "source": [
    "car_sales=pd.read_csv(\"data/car-sales.csv\")\n",
    "car_df=pd.DataFrame(car_sales)\n",
    "car"
   ],
   "id": "b1d6ab3795ab564c",
   "outputs": [
    {
     "data": {
      "text/plain": [
       "0            suv\n",
       "1    convertible\n",
       "2          sedan\n",
       "dtype: object"
      ]
     },
     "execution_count": 12,
     "metadata": {},
     "output_type": "execute_result"
    }
   ],
   "execution_count": 12
  },
  {
   "metadata": {},
   "cell_type": "markdown",
   "source": "# Find the different datatypes of the car\n",
   "id": "8951d02a7f33706e"
  },
  {
   "metadata": {
    "ExecuteTime": {
     "end_time": "2025-05-17T15:04:50.634108Z",
     "start_time": "2025-05-17T15:04:50.627185Z"
    }
   },
   "cell_type": "code",
   "source": "car_df.dtypes",
   "id": "b699c620d5985e9",
   "outputs": [
    {
     "data": {
      "text/plain": [
       "Make             object\n",
       "Colour           object\n",
       "Odometer (KM)     int64\n",
       "Doors             int64\n",
       "Price            object\n",
       "dtype: object"
      ]
     },
     "execution_count": 13,
     "metadata": {},
     "output_type": "execute_result"
    }
   ],
   "execution_count": 13
  },
  {
   "metadata": {},
   "cell_type": "markdown",
   "source": "# Describe your current car DataFrame using describe()\n",
   "id": "b6569d8397c77e7b"
  },
  {
   "metadata": {
    "ExecuteTime": {
     "end_time": "2025-05-17T15:04:50.912226Z",
     "start_time": "2025-05-17T15:04:50.892237Z"
    }
   },
   "cell_type": "code",
   "source": "car_df.describe()",
   "id": "97d0f3547ebae6e5",
   "outputs": [
    {
     "data": {
      "text/plain": [
       "       Odometer (KM)      Doors\n",
       "count      10.000000  10.000000\n",
       "mean    78601.400000   4.000000\n",
       "std     61983.471735   0.471405\n",
       "min     11179.000000   3.000000\n",
       "25%     35836.250000   4.000000\n",
       "50%     57369.000000   4.000000\n",
       "75%     96384.500000   4.000000\n",
       "max    213095.000000   5.000000"
      ],
      "text/html": [
       "<div>\n",
       "<style scoped>\n",
       "    .dataframe tbody tr th:only-of-type {\n",
       "        vertical-align: middle;\n",
       "    }\n",
       "\n",
       "    .dataframe tbody tr th {\n",
       "        vertical-align: top;\n",
       "    }\n",
       "\n",
       "    .dataframe thead th {\n",
       "        text-align: right;\n",
       "    }\n",
       "</style>\n",
       "<table border=\"1\" class=\"dataframe\">\n",
       "  <thead>\n",
       "    <tr style=\"text-align: right;\">\n",
       "      <th></th>\n",
       "      <th>Odometer (KM)</th>\n",
       "      <th>Doors</th>\n",
       "    </tr>\n",
       "  </thead>\n",
       "  <tbody>\n",
       "    <tr>\n",
       "      <th>count</th>\n",
       "      <td>10.000000</td>\n",
       "      <td>10.000000</td>\n",
       "    </tr>\n",
       "    <tr>\n",
       "      <th>mean</th>\n",
       "      <td>78601.400000</td>\n",
       "      <td>4.000000</td>\n",
       "    </tr>\n",
       "    <tr>\n",
       "      <th>std</th>\n",
       "      <td>61983.471735</td>\n",
       "      <td>0.471405</td>\n",
       "    </tr>\n",
       "    <tr>\n",
       "      <th>min</th>\n",
       "      <td>11179.000000</td>\n",
       "      <td>3.000000</td>\n",
       "    </tr>\n",
       "    <tr>\n",
       "      <th>25%</th>\n",
       "      <td>35836.250000</td>\n",
       "      <td>4.000000</td>\n",
       "    </tr>\n",
       "    <tr>\n",
       "      <th>50%</th>\n",
       "      <td>57369.000000</td>\n",
       "      <td>4.000000</td>\n",
       "    </tr>\n",
       "    <tr>\n",
       "      <th>75%</th>\n",
       "      <td>96384.500000</td>\n",
       "      <td>4.000000</td>\n",
       "    </tr>\n",
       "    <tr>\n",
       "      <th>max</th>\n",
       "      <td>213095.000000</td>\n",
       "      <td>5.000000</td>\n",
       "    </tr>\n",
       "  </tbody>\n",
       "</table>\n",
       "</div>"
      ]
     },
     "execution_count": 14,
     "metadata": {},
     "output_type": "execute_result"
    }
   ],
   "execution_count": 14
  },
  {
   "metadata": {},
   "cell_type": "markdown",
   "source": "# Get information about your DataFrame using info()\n",
   "id": "58db74c4d4571fdb"
  },
  {
   "metadata": {
    "ExecuteTime": {
     "end_time": "2025-05-17T15:27:53.849150Z",
     "start_time": "2025-05-17T15:27:53.792312Z"
    }
   },
   "cell_type": "code",
   "source": "car_df.info()\n",
   "id": "afaf12537f8632cd",
   "outputs": [
    {
     "name": "stdout",
     "output_type": "stream",
     "text": [
      "<class 'pandas.core.frame.DataFrame'>\n",
      "RangeIndex: 10 entries, 0 to 9\n",
      "Data columns (total 5 columns):\n",
      " #   Column         Non-Null Count  Dtype \n",
      "---  ------         --------------  ----- \n",
      " 0   Make           10 non-null     object\n",
      " 1   Colour         10 non-null     object\n",
      " 2   Odometer (KM)  10 non-null     int64 \n",
      " 3   Doors          10 non-null     int64 \n",
      " 4   Price          10 non-null     object\n",
      "dtypes: int64(2), object(3)\n",
      "memory usage: 532.0+ bytes\n"
     ]
    }
   ],
   "execution_count": 15
  }
 ],
 "metadata": {
  "kernelspec": {
   "display_name": "Python [conda env:env]",
   "language": "python",
   "name": "conda-env-env-py"
  },
  "language_info": {
   "codemirror_mode": {
    "name": "ipython",
    "version": 2
   },
   "file_extension": ".py",
   "mimetype": "text/x-python",
   "name": "python",
   "nbconvert_exporter": "python",
   "pygments_lexer": "ipython2",
   "version": "2.7.6"
  }
 },
 "nbformat": 4,
 "nbformat_minor": 5
}
